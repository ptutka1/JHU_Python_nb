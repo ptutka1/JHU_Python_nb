{
 "cells": [
  {
   "cell_type": "markdown",
   "metadata": {},
   "source": [
    "Pat Tutka \n",
    "Week 4 Assignment"
   ]
  },
  {
   "cell_type": "markdown",
   "metadata": {},
   "source": [
    "# Instructions\n",
    "The following Cells need to be executed.\n",
    "\n",
    "They are used to download and generate a dataset that has an aggregated count of bike trips per hundredth of an hour through the 24 hours in a day.\n",
    "\n",
    "I put all this here instead of providing you the dataset directly, so that you could learn something along the way :)\n",
    "\n",
    "The assignment is in the last cell."
   ]
  },
  {
   "cell_type": "code",
   "execution_count": 42,
   "metadata": {},
   "outputs": [
    {
     "data": {
      "text/html": [
       "<div>\n",
       "<style>\n",
       "    .dataframe thead tr:only-child th {\n",
       "        text-align: right;\n",
       "    }\n",
       "\n",
       "    .dataframe thead th {\n",
       "        text-align: left;\n",
       "    }\n",
       "\n",
       "    .dataframe tbody tr th {\n",
       "        vertical-align: top;\n",
       "    }\n",
       "</style>\n",
       "<table border=\"1\" class=\"dataframe\">\n",
       "  <thead>\n",
       "    <tr style=\"text-align: right;\">\n",
       "      <th></th>\n",
       "      <th>Duration (ms)</th>\n",
       "      <th>Start date</th>\n",
       "      <th>End date</th>\n",
       "      <th>Start station number</th>\n",
       "      <th>Start station</th>\n",
       "      <th>End station number</th>\n",
       "      <th>End station</th>\n",
       "      <th>Bike number</th>\n",
       "      <th>Member Type</th>\n",
       "      <th>start</th>\n",
       "      <th>end</th>\n",
       "    </tr>\n",
       "  </thead>\n",
       "  <tbody>\n",
       "    <tr>\n",
       "      <th>0</th>\n",
       "      <td>301295</td>\n",
       "      <td>3/31/2016 23:59</td>\n",
       "      <td>4/1/2016 0:04</td>\n",
       "      <td>31280</td>\n",
       "      <td>11th &amp; S St NW</td>\n",
       "      <td>31506</td>\n",
       "      <td>1st &amp; Rhode Island Ave NW</td>\n",
       "      <td>W00022</td>\n",
       "      <td>Registered</td>\n",
       "      <td>2016-03-31 23:59:00</td>\n",
       "      <td>2016-04-01 00:04:00</td>\n",
       "    </tr>\n",
       "    <tr>\n",
       "      <th>1</th>\n",
       "      <td>557887</td>\n",
       "      <td>3/31/2016 23:59</td>\n",
       "      <td>4/1/2016 0:08</td>\n",
       "      <td>31275</td>\n",
       "      <td>New Hampshire Ave &amp; 24th St NW</td>\n",
       "      <td>31114</td>\n",
       "      <td>18th St &amp; Wyoming Ave NW</td>\n",
       "      <td>W01294</td>\n",
       "      <td>Registered</td>\n",
       "      <td>2016-03-31 23:59:00</td>\n",
       "      <td>2016-04-01 00:08:00</td>\n",
       "    </tr>\n",
       "    <tr>\n",
       "      <th>2</th>\n",
       "      <td>555944</td>\n",
       "      <td>3/31/2016 23:59</td>\n",
       "      <td>4/1/2016 0:08</td>\n",
       "      <td>31101</td>\n",
       "      <td>14th &amp; V St NW</td>\n",
       "      <td>31221</td>\n",
       "      <td>18th &amp; M St NW</td>\n",
       "      <td>W01416</td>\n",
       "      <td>Registered</td>\n",
       "      <td>2016-03-31 23:59:00</td>\n",
       "      <td>2016-04-01 00:08:00</td>\n",
       "    </tr>\n",
       "    <tr>\n",
       "      <th>3</th>\n",
       "      <td>766916</td>\n",
       "      <td>3/31/2016 23:57</td>\n",
       "      <td>4/1/2016 0:09</td>\n",
       "      <td>31226</td>\n",
       "      <td>34th St &amp; Wisconsin Ave NW</td>\n",
       "      <td>31214</td>\n",
       "      <td>17th &amp; Corcoran St NW</td>\n",
       "      <td>W01090</td>\n",
       "      <td>Registered</td>\n",
       "      <td>2016-03-31 23:57:00</td>\n",
       "      <td>2016-04-01 00:09:00</td>\n",
       "    </tr>\n",
       "    <tr>\n",
       "      <th>4</th>\n",
       "      <td>139656</td>\n",
       "      <td>3/31/2016 23:57</td>\n",
       "      <td>3/31/2016 23:59</td>\n",
       "      <td>31011</td>\n",
       "      <td>23rd &amp; Crystal Dr</td>\n",
       "      <td>31009</td>\n",
       "      <td>27th &amp; Crystal Dr</td>\n",
       "      <td>W21934</td>\n",
       "      <td>Registered</td>\n",
       "      <td>2016-03-31 23:57:00</td>\n",
       "      <td>2016-03-31 23:59:00</td>\n",
       "    </tr>\n",
       "  </tbody>\n",
       "</table>\n",
       "</div>"
      ],
      "text/plain": [
       "   Duration (ms)       Start date         End date  Start station number  \\\n",
       "0         301295  3/31/2016 23:59    4/1/2016 0:04                 31280   \n",
       "1         557887  3/31/2016 23:59    4/1/2016 0:08                 31275   \n",
       "2         555944  3/31/2016 23:59    4/1/2016 0:08                 31101   \n",
       "3         766916  3/31/2016 23:57    4/1/2016 0:09                 31226   \n",
       "4         139656  3/31/2016 23:57  3/31/2016 23:59                 31011   \n",
       "\n",
       "                    Start station  End station number  \\\n",
       "0                  11th & S St NW               31506   \n",
       "1  New Hampshire Ave & 24th St NW               31114   \n",
       "2                  14th & V St NW               31221   \n",
       "3      34th St & Wisconsin Ave NW               31214   \n",
       "4               23rd & Crystal Dr               31009   \n",
       "\n",
       "                 End station Bike number Member Type               start  \\\n",
       "0  1st & Rhode Island Ave NW      W00022  Registered 2016-03-31 23:59:00   \n",
       "1   18th St & Wyoming Ave NW      W01294  Registered 2016-03-31 23:59:00   \n",
       "2             18th & M St NW      W01416  Registered 2016-03-31 23:59:00   \n",
       "3      17th & Corcoran St NW      W01090  Registered 2016-03-31 23:57:00   \n",
       "4          27th & Crystal Dr      W21934  Registered 2016-03-31 23:57:00   \n",
       "\n",
       "                  end  \n",
       "0 2016-04-01 00:04:00  \n",
       "1 2016-04-01 00:08:00  \n",
       "2 2016-04-01 00:08:00  \n",
       "3 2016-04-01 00:09:00  \n",
       "4 2016-03-31 23:59:00  "
      ]
     },
     "execution_count": 42,
     "metadata": {},
     "output_type": "execute_result"
    }
   ],
   "source": [
    "import seaborn as sns\n",
    "import matplotlib.pyplot as plt\n",
    "%matplotlib inline\n",
    "import pandas as pd\n",
    "from sklearn.linear_model import LinearRegression\n",
    "from sklearn import linear_model\n",
    "bikes = pd.read_csv('C:\\JHU_Python\\data\\cycletrips2016.csv')\n",
    "bikes.head()\n",
    "bikes['start'] = pd.to_datetime(bikes['Start date'], infer_datetime_format=True)\n",
    "bikes['end'] = pd.to_datetime(bikes['End date'], infer_datetime_format=True)\n",
    "\n",
    "bikes.head(5)\n"
   ]
  },
  {
   "cell_type": "code",
   "execution_count": 43,
   "metadata": {},
   "outputs": [
    {
     "data": {
      "text/html": [
       "<div>\n",
       "<style>\n",
       "    .dataframe thead tr:only-child th {\n",
       "        text-align: right;\n",
       "    }\n",
       "\n",
       "    .dataframe thead th {\n",
       "        text-align: left;\n",
       "    }\n",
       "\n",
       "    .dataframe tbody tr th {\n",
       "        vertical-align: top;\n",
       "    }\n",
       "</style>\n",
       "<table border=\"1\" class=\"dataframe\">\n",
       "  <thead>\n",
       "    <tr style=\"text-align: right;\">\n",
       "      <th></th>\n",
       "      <th>Duration (ms)</th>\n",
       "      <th>Start date</th>\n",
       "      <th>End date</th>\n",
       "      <th>Start station number</th>\n",
       "      <th>Start station</th>\n",
       "      <th>End station number</th>\n",
       "      <th>End station</th>\n",
       "      <th>Bike number</th>\n",
       "      <th>Member Type</th>\n",
       "      <th>start</th>\n",
       "      <th>end</th>\n",
       "      <th>hour_of_day</th>\n",
       "    </tr>\n",
       "  </thead>\n",
       "  <tbody>\n",
       "    <tr>\n",
       "      <th>0</th>\n",
       "      <td>301295</td>\n",
       "      <td>3/31/2016 23:59</td>\n",
       "      <td>4/1/2016 0:04</td>\n",
       "      <td>31280</td>\n",
       "      <td>11th &amp; S St NW</td>\n",
       "      <td>31506</td>\n",
       "      <td>1st &amp; Rhode Island Ave NW</td>\n",
       "      <td>W00022</td>\n",
       "      <td>Registered</td>\n",
       "      <td>2016-03-31 23:59:00</td>\n",
       "      <td>2016-04-01 00:04:00</td>\n",
       "      <td>23.98</td>\n",
       "    </tr>\n",
       "    <tr>\n",
       "      <th>1</th>\n",
       "      <td>557887</td>\n",
       "      <td>3/31/2016 23:59</td>\n",
       "      <td>4/1/2016 0:08</td>\n",
       "      <td>31275</td>\n",
       "      <td>New Hampshire Ave &amp; 24th St NW</td>\n",
       "      <td>31114</td>\n",
       "      <td>18th St &amp; Wyoming Ave NW</td>\n",
       "      <td>W01294</td>\n",
       "      <td>Registered</td>\n",
       "      <td>2016-03-31 23:59:00</td>\n",
       "      <td>2016-04-01 00:08:00</td>\n",
       "      <td>23.98</td>\n",
       "    </tr>\n",
       "    <tr>\n",
       "      <th>2</th>\n",
       "      <td>555944</td>\n",
       "      <td>3/31/2016 23:59</td>\n",
       "      <td>4/1/2016 0:08</td>\n",
       "      <td>31101</td>\n",
       "      <td>14th &amp; V St NW</td>\n",
       "      <td>31221</td>\n",
       "      <td>18th &amp; M St NW</td>\n",
       "      <td>W01416</td>\n",
       "      <td>Registered</td>\n",
       "      <td>2016-03-31 23:59:00</td>\n",
       "      <td>2016-04-01 00:08:00</td>\n",
       "      <td>23.98</td>\n",
       "    </tr>\n",
       "    <tr>\n",
       "      <th>3</th>\n",
       "      <td>766916</td>\n",
       "      <td>3/31/2016 23:57</td>\n",
       "      <td>4/1/2016 0:09</td>\n",
       "      <td>31226</td>\n",
       "      <td>34th St &amp; Wisconsin Ave NW</td>\n",
       "      <td>31214</td>\n",
       "      <td>17th &amp; Corcoran St NW</td>\n",
       "      <td>W01090</td>\n",
       "      <td>Registered</td>\n",
       "      <td>2016-03-31 23:57:00</td>\n",
       "      <td>2016-04-01 00:09:00</td>\n",
       "      <td>23.95</td>\n",
       "    </tr>\n",
       "    <tr>\n",
       "      <th>4</th>\n",
       "      <td>139656</td>\n",
       "      <td>3/31/2016 23:57</td>\n",
       "      <td>3/31/2016 23:59</td>\n",
       "      <td>31011</td>\n",
       "      <td>23rd &amp; Crystal Dr</td>\n",
       "      <td>31009</td>\n",
       "      <td>27th &amp; Crystal Dr</td>\n",
       "      <td>W21934</td>\n",
       "      <td>Registered</td>\n",
       "      <td>2016-03-31 23:57:00</td>\n",
       "      <td>2016-03-31 23:59:00</td>\n",
       "      <td>23.95</td>\n",
       "    </tr>\n",
       "  </tbody>\n",
       "</table>\n",
       "</div>"
      ],
      "text/plain": [
       "   Duration (ms)       Start date         End date  Start station number  \\\n",
       "0         301295  3/31/2016 23:59    4/1/2016 0:04                 31280   \n",
       "1         557887  3/31/2016 23:59    4/1/2016 0:08                 31275   \n",
       "2         555944  3/31/2016 23:59    4/1/2016 0:08                 31101   \n",
       "3         766916  3/31/2016 23:57    4/1/2016 0:09                 31226   \n",
       "4         139656  3/31/2016 23:57  3/31/2016 23:59                 31011   \n",
       "\n",
       "                    Start station  End station number  \\\n",
       "0                  11th & S St NW               31506   \n",
       "1  New Hampshire Ave & 24th St NW               31114   \n",
       "2                  14th & V St NW               31221   \n",
       "3      34th St & Wisconsin Ave NW               31214   \n",
       "4               23rd & Crystal Dr               31009   \n",
       "\n",
       "                 End station Bike number Member Type               start  \\\n",
       "0  1st & Rhode Island Ave NW      W00022  Registered 2016-03-31 23:59:00   \n",
       "1   18th St & Wyoming Ave NW      W01294  Registered 2016-03-31 23:59:00   \n",
       "2             18th & M St NW      W01416  Registered 2016-03-31 23:59:00   \n",
       "3      17th & Corcoran St NW      W01090  Registered 2016-03-31 23:57:00   \n",
       "4          27th & Crystal Dr      W21934  Registered 2016-03-31 23:57:00   \n",
       "\n",
       "                  end  hour_of_day  \n",
       "0 2016-04-01 00:04:00        23.98  \n",
       "1 2016-04-01 00:08:00        23.98  \n",
       "2 2016-04-01 00:08:00        23.98  \n",
       "3 2016-04-01 00:09:00        23.95  \n",
       "4 2016-03-31 23:59:00        23.95  "
      ]
     },
     "execution_count": 43,
     "metadata": {},
     "output_type": "execute_result"
    }
   ],
   "source": [
    "bikes['hour_of_day'] = (bikes.start.dt.hour + (bikes.start.dt.minute/60).round(2))\n",
    "bikes.head()"
   ]
  },
  {
   "cell_type": "code",
   "execution_count": 44,
   "metadata": {},
   "outputs": [
    {
     "data": {
      "text/plain": [
       "<matplotlib.axes._subplots.AxesSubplot at 0x275ce30fa58>"
      ]
     },
     "execution_count": 44,
     "metadata": {},
     "output_type": "execute_result"
    },
    {
     "data": {
      "image/png": "[encoded data removed]",
      "text/plain": [
       "<matplotlib.figure.Figure at 0x275c9e49550>"
      ]
     },
     "metadata": {},
     "output_type": "display_data"
    }
   ],
   "source": [
    "hours = bikes.groupby('hour_of_day').agg('count')\n",
    "hours['hour'] = hours.index\n",
    "\n",
    "hours.start.plot()\n"
   ]
  },
  {
   "cell_type": "code",
   "execution_count": 45,
   "metadata": {},
   "outputs": [
    {
     "data": {
      "text/html": [
       "<div>\n",
       "<style>\n",
       "    .dataframe thead tr:only-child th {\n",
       "        text-align: right;\n",
       "    }\n",
       "\n",
       "    .dataframe thead th {\n",
       "        text-align: left;\n",
       "    }\n",
       "\n",
       "    .dataframe tbody tr th {\n",
       "        vertical-align: top;\n",
       "    }\n",
       "</style>\n",
       "<table border=\"1\" class=\"dataframe\">\n",
       "  <thead>\n",
       "    <tr style=\"text-align: right;\">\n",
       "      <th></th>\n",
       "      <th>Duration (ms)</th>\n",
       "      <th>Start date</th>\n",
       "      <th>End date</th>\n",
       "      <th>Start station number</th>\n",
       "      <th>Start station</th>\n",
       "      <th>End station number</th>\n",
       "      <th>End station</th>\n",
       "      <th>Bike number</th>\n",
       "      <th>Member Type</th>\n",
       "      <th>start</th>\n",
       "      <th>end</th>\n",
       "      <th>hour</th>\n",
       "    </tr>\n",
       "    <tr>\n",
       "      <th>hour_of_day</th>\n",
       "      <th></th>\n",
       "      <th></th>\n",
       "      <th></th>\n",
       "      <th></th>\n",
       "      <th></th>\n",
       "      <th></th>\n",
       "      <th></th>\n",
       "      <th></th>\n",
       "      <th></th>\n",
       "      <th></th>\n",
       "      <th></th>\n",
       "      <th></th>\n",
       "    </tr>\n",
       "  </thead>\n",
       "  <tbody>\n",
       "    <tr>\n",
       "      <th>0.00</th>\n",
       "      <td>70</td>\n",
       "      <td>70</td>\n",
       "      <td>70</td>\n",
       "      <td>70</td>\n",
       "      <td>70</td>\n",
       "      <td>70</td>\n",
       "      <td>70</td>\n",
       "      <td>70</td>\n",
       "      <td>70</td>\n",
       "      <td>70</td>\n",
       "      <td>70</td>\n",
       "      <td>0.00</td>\n",
       "    </tr>\n",
       "    <tr>\n",
       "      <th>0.02</th>\n",
       "      <td>90</td>\n",
       "      <td>90</td>\n",
       "      <td>90</td>\n",
       "      <td>90</td>\n",
       "      <td>90</td>\n",
       "      <td>90</td>\n",
       "      <td>90</td>\n",
       "      <td>90</td>\n",
       "      <td>90</td>\n",
       "      <td>90</td>\n",
       "      <td>90</td>\n",
       "      <td>0.02</td>\n",
       "    </tr>\n",
       "    <tr>\n",
       "      <th>0.03</th>\n",
       "      <td>71</td>\n",
       "      <td>71</td>\n",
       "      <td>71</td>\n",
       "      <td>71</td>\n",
       "      <td>71</td>\n",
       "      <td>71</td>\n",
       "      <td>71</td>\n",
       "      <td>71</td>\n",
       "      <td>71</td>\n",
       "      <td>71</td>\n",
       "      <td>71</td>\n",
       "      <td>0.03</td>\n",
       "    </tr>\n",
       "    <tr>\n",
       "      <th>0.05</th>\n",
       "      <td>77</td>\n",
       "      <td>77</td>\n",
       "      <td>77</td>\n",
       "      <td>77</td>\n",
       "      <td>77</td>\n",
       "      <td>77</td>\n",
       "      <td>77</td>\n",
       "      <td>77</td>\n",
       "      <td>77</td>\n",
       "      <td>77</td>\n",
       "      <td>77</td>\n",
       "      <td>0.05</td>\n",
       "    </tr>\n",
       "    <tr>\n",
       "      <th>0.07</th>\n",
       "      <td>68</td>\n",
       "      <td>68</td>\n",
       "      <td>68</td>\n",
       "      <td>68</td>\n",
       "      <td>68</td>\n",
       "      <td>68</td>\n",
       "      <td>68</td>\n",
       "      <td>68</td>\n",
       "      <td>68</td>\n",
       "      <td>68</td>\n",
       "      <td>68</td>\n",
       "      <td>0.07</td>\n",
       "    </tr>\n",
       "  </tbody>\n",
       "</table>\n",
       "</div>"
      ],
      "text/plain": [
       "             Duration (ms)  Start date  End date  Start station number  \\\n",
       "hour_of_day                                                              \n",
       "0.00                    70          70        70                    70   \n",
       "0.02                    90          90        90                    90   \n",
       "0.03                    71          71        71                    71   \n",
       "0.05                    77          77        77                    77   \n",
       "0.07                    68          68        68                    68   \n",
       "\n",
       "             Start station  End station number  End station  Bike number  \\\n",
       "hour_of_day                                                                \n",
       "0.00                    70                  70           70           70   \n",
       "0.02                    90                  90           90           90   \n",
       "0.03                    71                  71           71           71   \n",
       "0.05                    77                  77           77           77   \n",
       "0.07                    68                  68           68           68   \n",
       "\n",
       "             Member Type  start  end  hour  \n",
       "hour_of_day                                 \n",
       "0.00                  70     70   70  0.00  \n",
       "0.02                  90     90   90  0.02  \n",
       "0.03                  71     71   71  0.03  \n",
       "0.05                  77     77   77  0.05  \n",
       "0.07                  68     68   68  0.07  "
      ]
     },
     "execution_count": 45,
     "metadata": {},
     "output_type": "execute_result"
    }
   ],
   "source": [
    "hours.head(5)"
   ]
  },
  {
   "cell_type": "markdown",
   "metadata": {},
   "source": [
    "The following Cells need to be executed.\n",
    "\n",
    "They are used to download and generate a dataset that has an aggregated count of bike trips per hundredth of an hour through the 24 hours in a day.\n",
    "\n",
    "I put all this here instead of providing you the dataset directly, so that you could learn something along the way :)\n",
    "\n",
    "The assignment is in the last cell."
   ]
  },
  {
   "cell_type": "markdown",
   "metadata": {},
   "source": [
    "# Assignment 4\n",
    "Using the hours dataframe and the hour_of_day column, perform the following cells.\n",
    "\n",
    "Explain the results in a paragraph + charts of to describe which model you'd recommend\n",
    "\n",
    "# 1. Create 3 models fit to hour_of_day with varying polynomial degrees"
   ]
  },
  {
   "cell_type": "code",
   "execution_count": 46,
   "metadata": {},
   "outputs": [
    {
     "data": {
      "text/html": [
       "<div>\n",
       "<style>\n",
       "    .dataframe thead tr:only-child th {\n",
       "        text-align: right;\n",
       "    }\n",
       "\n",
       "    .dataframe thead th {\n",
       "        text-align: left;\n",
       "    }\n",
       "\n",
       "    .dataframe tbody tr th {\n",
       "        vertical-align: top;\n",
       "    }\n",
       "</style>\n",
       "<table border=\"1\" class=\"dataframe\">\n",
       "  <thead>\n",
       "    <tr style=\"text-align: right;\">\n",
       "      <th></th>\n",
       "      <th>Duration (ms)</th>\n",
       "      <th>Start date</th>\n",
       "      <th>End date</th>\n",
       "      <th>Start station number</th>\n",
       "      <th>Start station</th>\n",
       "      <th>End station number</th>\n",
       "      <th>End station</th>\n",
       "      <th>Bike number</th>\n",
       "      <th>Member Type</th>\n",
       "      <th>start</th>\n",
       "      <th>end</th>\n",
       "      <th>hour</th>\n",
       "    </tr>\n",
       "    <tr>\n",
       "      <th>hour_of_day</th>\n",
       "      <th></th>\n",
       "      <th></th>\n",
       "      <th></th>\n",
       "      <th></th>\n",
       "      <th></th>\n",
       "      <th></th>\n",
       "      <th></th>\n",
       "      <th></th>\n",
       "      <th></th>\n",
       "      <th></th>\n",
       "      <th></th>\n",
       "      <th></th>\n",
       "    </tr>\n",
       "  </thead>\n",
       "  <tbody>\n",
       "    <tr>\n",
       "      <th>0.00</th>\n",
       "      <td>70</td>\n",
       "      <td>70</td>\n",
       "      <td>70</td>\n",
       "      <td>70</td>\n",
       "      <td>70</td>\n",
       "      <td>70</td>\n",
       "      <td>70</td>\n",
       "      <td>70</td>\n",
       "      <td>70</td>\n",
       "      <td>70</td>\n",
       "      <td>70</td>\n",
       "      <td>0.00</td>\n",
       "    </tr>\n",
       "    <tr>\n",
       "      <th>0.02</th>\n",
       "      <td>90</td>\n",
       "      <td>90</td>\n",
       "      <td>90</td>\n",
       "      <td>90</td>\n",
       "      <td>90</td>\n",
       "      <td>90</td>\n",
       "      <td>90</td>\n",
       "      <td>90</td>\n",
       "      <td>90</td>\n",
       "      <td>90</td>\n",
       "      <td>90</td>\n",
       "      <td>0.02</td>\n",
       "    </tr>\n",
       "    <tr>\n",
       "      <th>0.03</th>\n",
       "      <td>71</td>\n",
       "      <td>71</td>\n",
       "      <td>71</td>\n",
       "      <td>71</td>\n",
       "      <td>71</td>\n",
       "      <td>71</td>\n",
       "      <td>71</td>\n",
       "      <td>71</td>\n",
       "      <td>71</td>\n",
       "      <td>71</td>\n",
       "      <td>71</td>\n",
       "      <td>0.03</td>\n",
       "    </tr>\n",
       "    <tr>\n",
       "      <th>0.05</th>\n",
       "      <td>77</td>\n",
       "      <td>77</td>\n",
       "      <td>77</td>\n",
       "      <td>77</td>\n",
       "      <td>77</td>\n",
       "      <td>77</td>\n",
       "      <td>77</td>\n",
       "      <td>77</td>\n",
       "      <td>77</td>\n",
       "      <td>77</td>\n",
       "      <td>77</td>\n",
       "      <td>0.05</td>\n",
       "    </tr>\n",
       "    <tr>\n",
       "      <th>0.07</th>\n",
       "      <td>68</td>\n",
       "      <td>68</td>\n",
       "      <td>68</td>\n",
       "      <td>68</td>\n",
       "      <td>68</td>\n",
       "      <td>68</td>\n",
       "      <td>68</td>\n",
       "      <td>68</td>\n",
       "      <td>68</td>\n",
       "      <td>68</td>\n",
       "      <td>68</td>\n",
       "      <td>0.07</td>\n",
       "    </tr>\n",
       "  </tbody>\n",
       "</table>\n",
       "</div>"
      ],
      "text/plain": [
       "             Duration (ms)  Start date  End date  Start station number  \\\n",
       "hour_of_day                                                              \n",
       "0.00                    70          70        70                    70   \n",
       "0.02                    90          90        90                    90   \n",
       "0.03                    71          71        71                    71   \n",
       "0.05                    77          77        77                    77   \n",
       "0.07                    68          68        68                    68   \n",
       "\n",
       "             Start station  End station number  End station  Bike number  \\\n",
       "hour_of_day                                                                \n",
       "0.00                    70                  70           70           70   \n",
       "0.02                    90                  90           90           90   \n",
       "0.03                    71                  71           71           71   \n",
       "0.05                    77                  77           77           77   \n",
       "0.07                    68                  68           68           68   \n",
       "\n",
       "             Member Type  start  end  hour  \n",
       "hour_of_day                                 \n",
       "0.00                  70     70   70  0.00  \n",
       "0.02                  90     90   90  0.02  \n",
       "0.03                  71     71   71  0.03  \n",
       "0.05                  77     77   77  0.05  \n",
       "0.07                  68     68   68  0.07  "
      ]
     },
     "execution_count": 46,
     "metadata": {},
     "output_type": "execute_result"
    }
   ],
   "source": [
    "hours.head(5)"
   ]
  },
  {
   "cell_type": "code",
   "execution_count": 47,
   "metadata": {
    "collapsed": true
   },
   "outputs": [],
   "source": [
    "from sklearn.linear_model import LinearRegression\n",
    "from sklearn import linear_model"
   ]
  },
  {
   "cell_type": "code",
   "execution_count": 48,
   "metadata": {
    "scrolled": true
   },
   "outputs": [
    {
     "data": {
      "text/plain": [
       "<matplotlib.axes._subplots.AxesSubplot at 0x275c9e432b0>"
      ]
     },
     "execution_count": 48,
     "metadata": {},
     "output_type": "execute_result"
    },
    {
     "data": {
      "image/png": "[encoded data removed]",
      "text/plain": [
       "<matplotlib.figure.Figure at 0x275c9d84eb8>"
      ]
     },
     "metadata": {},
     "output_type": "display_data"
    }
   ],
   "source": [
    "hours.start.plot()"
   ]
  },
  {
   "cell_type": "markdown",
   "metadata": {},
   "source": [
    "This is the cell where I define X and Y"
   ]
  },
  {
   "cell_type": "code",
   "execution_count": 49,
   "metadata": {},
   "outputs": [],
   "source": [
    "X = hours[['hour']] # the x variable is pulled from the new \"hour column\" in the hours dataframe. The hour column is a mirror of hour_of_day index column.\n",
    "y = hours.start #count of trips aggregate"
   ]
  },
  {
   "cell_type": "code",
   "execution_count": 50,
   "metadata": {
    "collapsed": true
   },
   "outputs": [],
   "source": [
    "from sklearn.preprocessing import PolynomialFeatures"
   ]
  },
  {
   "cell_type": "code",
   "execution_count": 51,
   "metadata": {},
   "outputs": [],
   "source": [
    "poly = PolynomialFeatures(degree=10)\n",
    "Xpoly1 = poly.fit_transform(X) "
   ]
  },
  {
   "cell_type": "code",
   "execution_count": 52,
   "metadata": {},
   "outputs": [
    {
     "data": {
      "text/plain": [
       "(1440, 11)"
      ]
     },
     "execution_count": 52,
     "metadata": {},
     "output_type": "execute_result"
    }
   ],
   "source": [
    "Xpoly1.shape"
   ]
  },
  {
   "cell_type": "code",
   "execution_count": 53,
   "metadata": {},
   "outputs": [
    {
     "data": {
      "text/plain": [
       "(array([  0.00000000e+00,  -4.34347670e+02,   5.69923707e+02,\n",
       "         -3.15933322e+02,   8.68761380e+01,  -1.31622016e+01,\n",
       "          1.17426779e+00,  -6.32226060e-02,   2.01613106e-03,\n",
       "         -3.49887948e-05,   2.53956728e-07]), 138.0783070857326)"
      ]
     },
     "execution_count": 53,
     "metadata": {},
     "output_type": "execute_result"
    }
   ],
   "source": [
    "linear2 = linear_model.LinearRegression()\n",
    "linear2.fit(Xpoly1, y)\n",
    "(linear2.coef_, linear2.intercept_)"
   ]
  },
  {
   "cell_type": "code",
   "execution_count": 54,
   "metadata": {
    "collapsed": true
   },
   "outputs": [],
   "source": [
    "import numpy as np"
   ]
  },
  {
   "cell_type": "code",
   "execution_count": 55,
   "metadata": {},
   "outputs": [
    {
     "data": {
      "text/plain": [
       "Text(0,0.5,'Number of Rides')"
      ]
     },
     "execution_count": 55,
     "metadata": {},
     "output_type": "execute_result"
    },
    {
     "data": {
      "image/png": "[encoded data removed]",
      "text/plain": [
       "<matplotlib.figure.Figure at 0x275ce321b00>"
      ]
     },
     "metadata": {},
     "output_type": "display_data"
    }
   ],
   "source": [
    "plt.scatter(hours.hour, hours.start)\n",
    "plt.plot(X, np.dot(Xpoly1, linear2.coef_) + linear2.intercept_, c='r')\n",
    "plt.title(\"Baseline Polynomial Regression Model\")\n",
    "plt.xlabel(\"Time\")\n",
    "plt.ylabel(\"Number of Rides\")"
   ]
  },
  {
   "cell_type": "markdown",
   "metadata": {},
   "source": [
    "In this model I attempted to fit a 10 degree polynominal regression, depicted in red, to the entire dataset. The model would not do a great job of predicting future points because during the peak times (morning rush hour and evening rush hour) the model under predicts by nearly 400 rides. In the next model I will try breaking down the dataset to specific ride times. "
   ]
  },
  {
   "cell_type": "code",
   "execution_count": 56,
   "metadata": {
    "collapsed": true
   },
   "outputs": [],
   "source": [
    "morning_rush1 = hours.loc[5:9] #morning rush between 5 and 9am"
   ]
  },
  {
   "cell_type": "code",
   "execution_count": 57,
   "metadata": {
    "collapsed": true
   },
   "outputs": [],
   "source": [
    "X1 = morning_rush1[['hour']]\n",
    "y1 = morning_rush1.start"
   ]
  },
  {
   "cell_type": "code",
   "execution_count": 58,
   "metadata": {
    "collapsed": true
   },
   "outputs": [],
   "source": [
    "poly = PolynomialFeatures(degree=6)\n",
    "Xpoly2 = poly.fit_transform(X1) "
   ]
  },
  {
   "cell_type": "code",
   "execution_count": 59,
   "metadata": {},
   "outputs": [
    {
     "data": {
      "text/plain": [
       "(241, 7)"
      ]
     },
     "execution_count": 59,
     "metadata": {},
     "output_type": "execute_result"
    }
   ],
   "source": [
    "Xpoly2.shape"
   ]
  },
  {
   "cell_type": "code",
   "execution_count": 60,
   "metadata": {},
   "outputs": [
    {
     "data": {
      "text/plain": [
       "(array([  0.00000000e+00,   4.96326535e+05,  -1.90228585e+05,\n",
       "          3.87521038e+04,  -4.42594963e+03,   2.68727808e+02,\n",
       "         -6.77354313e+00]), -537653.28245787963)"
      ]
     },
     "execution_count": 60,
     "metadata": {},
     "output_type": "execute_result"
    }
   ],
   "source": [
    "linear3 = linear_model.LinearRegression()\n",
    "linear3.fit(Xpoly2, y1)\n",
    "(linear3.coef_, linear3.intercept_)"
   ]
  },
  {
   "cell_type": "code",
   "execution_count": 61,
   "metadata": {
    "scrolled": true
   },
   "outputs": [
    {
     "data": {
      "text/plain": [
       "Text(0,0.5,'Number of Rides')"
      ]
     },
     "execution_count": 61,
     "metadata": {},
     "output_type": "execute_result"
    },
    {
     "data": {
      "image/png": "[encoded data removed]",
      "text/plain": [
       "<matplotlib.figure.Figure at 0x275ca968198>"
      ]
     },
     "metadata": {},
     "output_type": "display_data"
    }
   ],
   "source": [
    "plt.scatter(hours.hour, hours.start)\n",
    "plt.plot(X1, np.dot(Xpoly2, linear3.coef_) + linear3.intercept_, c='r')\n",
    "plt.xlim(4.5, 10)\n",
    "plt.ylim(0, 1200)\n",
    "plt.title(\"Morning Rush 0500am-0900am Polynomial Regression Model\")\n",
    "plt.xlabel(\"Time\")\n",
    "plt.ylabel(\"Number of Rides\")"
   ]
  },
  {
   "cell_type": "markdown",
   "metadata": {},
   "source": [
    "The above model shows the breakdown of the first section of the dataframe, \"morning rush 5am-9am\" and plots a 6 degree polynomial regression. At the utmost peak between 8-9 am the model slightly underpredicts. I would rather the model underperform to cancel out outliers."
   ]
  },
  {
   "cell_type": "code",
   "execution_count": 62,
   "metadata": {
    "collapsed": true
   },
   "outputs": [],
   "source": [
    "lunch_1 = hours.loc[9:15]\n",
    "X2 = lunch_1[['hour']]\n",
    "y2 = lunch_1.start\n"
   ]
  },
  {
   "cell_type": "code",
   "execution_count": 63,
   "metadata": {
    "collapsed": true
   },
   "outputs": [],
   "source": [
    "poly = PolynomialFeatures(degree=5)\n",
    "Xpoly3 = poly.fit_transform(X2) "
   ]
  },
  {
   "cell_type": "code",
   "execution_count": 64,
   "metadata": {},
   "outputs": [
    {
     "data": {
      "text/plain": [
       "(361, 6)"
      ]
     },
     "execution_count": 64,
     "metadata": {},
     "output_type": "execute_result"
    }
   ],
   "source": [
    "Xpoly3.shape"
   ]
  },
  {
   "cell_type": "code",
   "execution_count": 65,
   "metadata": {},
   "outputs": [
    {
     "data": {
      "text/plain": [
       "(array([  0.00000000e+00,  -1.97232252e+03,  -1.71311202e+03,\n",
       "          3.01733563e+02,  -1.85663079e+01,   3.97020591e-01]),\n",
       " 35636.847441607693)"
      ]
     },
     "execution_count": 65,
     "metadata": {},
     "output_type": "execute_result"
    }
   ],
   "source": [
    "linear4 = linear_model.LinearRegression()\n",
    "linear4.fit(Xpoly3, y2)\n",
    "(linear4.coef_, linear4.intercept_)"
   ]
  },
  {
   "cell_type": "code",
   "execution_count": 66,
   "metadata": {},
   "outputs": [
    {
     "data": {
      "text/plain": [
       "Text(0,0.5,'Number of Rides')"
      ]
     },
     "execution_count": 66,
     "metadata": {},
     "output_type": "execute_result"
    },
    {
     "data": {
      "image/png": "[encoded data removed]",
      "text/plain": [
       "<matplotlib.figure.Figure at 0x275ca8f4710>"
      ]
     },
     "metadata": {},
     "output_type": "display_data"
    }
   ],
   "source": [
    "plt.scatter(hours.hour, hours.start)\n",
    "plt.plot(X2, np.dot(Xpoly3, linear4.coef_) + linear4.intercept_, c='r')\n",
    "plt.xlim(8, 16)\n",
    "plt.ylim(0, 1200)\n",
    "plt.title(\"Lunchtime 0900-1500 Polynomial Regression Model\")\n",
    "plt.xlabel(\"Time\")\n",
    "plt.ylabel(\"Number of Rides\")"
   ]
  },
  {
   "cell_type": "markdown",
   "metadata": {},
   "source": [
    "In this model I tried a 5 degree polynominal regression to fit to late morning and the lunch ridership. It appears that the predicted data fits the raw data very well. "
   ]
  },
  {
   "cell_type": "code",
   "execution_count": 67,
   "metadata": {},
   "outputs": [
    {
     "data": {
      "text/plain": [
       "(151, 1)"
      ]
     },
     "execution_count": 67,
     "metadata": {},
     "output_type": "execute_result"
    }
   ],
   "source": [
    "Evening_rush1 = hours.loc[15:17.5]\n",
    "X3 = Evening_rush1[['hour']]\n",
    "y3 = Evening_rush1.start\n",
    "X3.shape"
   ]
  },
  {
   "cell_type": "code",
   "execution_count": 68,
   "metadata": {},
   "outputs": [
    {
     "data": {
      "text/plain": [
       "(151, 5)"
      ]
     },
     "execution_count": 68,
     "metadata": {},
     "output_type": "execute_result"
    }
   ],
   "source": [
    "poly = PolynomialFeatures(degree=4)\n",
    "Xpoly4 = poly.fit_transform(X3) \n",
    "Xpoly4.shape"
   ]
  },
  {
   "cell_type": "code",
   "execution_count": 69,
   "metadata": {},
   "outputs": [
    {
     "data": {
      "text/plain": [
       "(array([  0.00000000e+00,   9.40307416e+05,  -8.68060375e+04,\n",
       "          3.55375411e+03,  -5.44223023e+01]), -3811550.6778807594)"
      ]
     },
     "execution_count": 69,
     "metadata": {},
     "output_type": "execute_result"
    }
   ],
   "source": [
    "linear5 = linear_model.LinearRegression()\n",
    "linear5.fit(Xpoly4, y3)\n",
    "(linear5.coef_, linear5.intercept_)"
   ]
  },
  {
   "cell_type": "code",
   "execution_count": 70,
   "metadata": {},
   "outputs": [
    {
     "data": {
      "text/plain": [
       "Text(0,0.5,'Number of Rides')"
      ]
     },
     "execution_count": 70,
     "metadata": {},
     "output_type": "execute_result"
    },
    {
     "data": {
      "image/png": "[encoded data removed]",
      "text/plain": [
       "<matplotlib.figure.Figure at 0x275ca9f8470>"
      ]
     },
     "metadata": {},
     "output_type": "display_data"
    }
   ],
   "source": [
    "plt.scatter(hours.hour, hours.start)\n",
    "plt.plot(X3, np.dot(Xpoly4, linear5.coef_) + linear5.intercept_, c='r')\n",
    "plt.xlim(14.5, 18.5)\n",
    "plt.ylim(200, 1400)\n",
    "plt.title(\"Evening Rush 1500-1730 Polynomial Regression Model\")\n",
    "plt.xlabel(\"Time\")\n",
    "plt.ylabel(\"Number of Rides\")"
   ]
  },
  {
   "cell_type": "markdown",
   "metadata": {
    "collapsed": true
   },
   "source": [
    "The evening rush polynomial regression model is simplier and more linear because on average as I chose a 4 degree polynomial regression model to fit the data. Since this is probably the timeframe that Capitol Bike Share makes the most profit I want to fit the best model to the data. In addition, later in the assignment I choose this model to create three ridge regression models against. "
   ]
  },
  {
   "cell_type": "code",
   "execution_count": 71,
   "metadata": {
    "collapsed": true
   },
   "outputs": [],
   "source": [
    "Evening_= hours.loc[17.5:24]\n",
    "X4 = Evening_[['hour']]\n",
    "y4 = Evening_.start"
   ]
  },
  {
   "cell_type": "code",
   "execution_count": 72,
   "metadata": {},
   "outputs": [
    {
     "data": {
      "text/plain": [
       "(390, 4)"
      ]
     },
     "execution_count": 72,
     "metadata": {},
     "output_type": "execute_result"
    }
   ],
   "source": [
    "poly = PolynomialFeatures(degree=3)\n",
    "Xpoly5 = poly.fit_transform(X4) \n",
    "Xpoly5.shape"
   ]
  },
  {
   "cell_type": "code",
   "execution_count": 73,
   "metadata": {},
   "outputs": [
    {
     "data": {
      "text/plain": [
       "(array([  0.00000000e+00,  -7.07212493e+03,   3.03855890e+02,\n",
       "         -4.38919523e+00]), 55461.021095168689)"
      ]
     },
     "execution_count": 73,
     "metadata": {},
     "output_type": "execute_result"
    }
   ],
   "source": [
    "linear6 = linear_model.LinearRegression()\n",
    "linear6.fit(Xpoly5, y4)\n",
    "(linear6.coef_, linear6.intercept_)"
   ]
  },
  {
   "cell_type": "code",
   "execution_count": 74,
   "metadata": {},
   "outputs": [
    {
     "data": {
      "text/plain": [
       "Text(0,0.5,'Number of Rides')"
      ]
     },
     "execution_count": 74,
     "metadata": {},
     "output_type": "execute_result"
    },
    {
     "data": {
      "image/png": "[encoded data removed]",
      "text/plain": [
       "<matplotlib.figure.Figure at 0x275caa9b358>"
      ]
     },
     "metadata": {},
     "output_type": "display_data"
    }
   ],
   "source": [
    "plt.scatter(hours.hour, hours.start)\n",
    "plt.plot(X4, np.dot(Xpoly5, linear6.coef_) + linear6.intercept_, c='r')\n",
    "plt.xlim(19, 24)\n",
    "plt.ylim(0, 1200)\n",
    "plt.title(\"Late Evening 1730-2400 Polynomial Regression Model\")\n",
    "plt.xlabel(\"Time\")\n",
    "plt.ylabel(\"Number of Rides\")"
   ]
  },
  {
   "cell_type": "markdown",
   "metadata": {
    "collapsed": true
   },
   "source": [
    "For the most part I believe this model does a great job of predicting the points. I decided to keep the model very simple and ran a 3 degree polynominal regression. It appears that the predicted points cuts through the data well. This  model also would be a good candidate for running a ridge regression on as well to see how it predicts. "
   ]
  },
  {
   "cell_type": "markdown",
   "metadata": {},
   "source": [
    "# 2. Choose one of the polynomial models and create 3 new models fit to hour_of_day with different Ridge Regression $\\alpha$ (alpha) Ridge Coefficient values"
   ]
  },
  {
   "cell_type": "markdown",
   "metadata": {
    "collapsed": true
   },
   "source": [
    "I chose the evening rush model to run a ridge regression against. "
   ]
  },
  {
   "cell_type": "code",
   "execution_count": 75,
   "metadata": {},
   "outputs": [
    {
     "data": {
      "text/plain": [
       "Text(0,0.5,'Number of Rides')"
      ]
     },
     "execution_count": 75,
     "metadata": {},
     "output_type": "execute_result"
    },
    {
     "data": {
      "image/png": "[encoded data removed]",
      "text/plain": [
       "<matplotlib.figure.Figure at 0x275caacfe80>"
      ]
     },
     "metadata": {},
     "output_type": "display_data"
    }
   ],
   "source": [
    "plt.scatter(hours.hour, hours.start)\n",
    "plt.plot(X3, np.dot(Xpoly4, linear5.coef_) + linear5.intercept_, c='r')\n",
    "plt.xlim(14.5, 18.5)\n",
    "plt.ylim(200, 1300)\n",
    "plt.title(\"Evening Rush 1500-1730 Polynomial Regression Model\")\n",
    "plt.xlabel(\"Time\")\n",
    "plt.ylabel(\"Number of Rides\")"
   ]
  },
  {
   "cell_type": "code",
   "execution_count": 76,
   "metadata": {},
   "outputs": [
    {
     "data": {
      "text/plain": [
       "(array([ 0.        ,  0.23907684,  2.19079787, -4.98984631,  0.24060762]),\n",
       " 4690.4710420356014)"
      ]
     },
     "execution_count": 76,
     "metadata": {},
     "output_type": "execute_result"
    }
   ],
   "source": [
    "#Evening_rush1 = hours.loc[15:17.5] These are the variable parameters I am basing my ridge model on. 1500-1730.\n",
    "#X3 = Evening_rush1[['hour']]\n",
    "#y3 = Evening_rush1.start\n",
    "#poly = PolynomialFeatures(degree=4)\n",
    "#Xpoly4 = poly.fit_transform(X3) \n",
    "\n",
    "ridge_evening1 = linear_model.Ridge(alpha=1)\n",
    "ridge_evening1.fit(Xpoly4, y3)\n",
    "ridge_evening1.coef_, ridge_evening1.intercept_"
   ]
  },
  {
   "cell_type": "code",
   "execution_count": 77,
   "metadata": {},
   "outputs": [
    {
     "data": {
      "text/plain": [
       "Text(0,0.5,'Number of Rides')"
      ]
     },
     "execution_count": 77,
     "metadata": {},
     "output_type": "execute_result"
    },
    {
     "data": {
      "image/png": "[encoded data removed]",
      "text/plain": [
       "<matplotlib.figure.Figure at 0x275cab6d5c0>"
      ]
     },
     "metadata": {},
     "output_type": "display_data"
    }
   ],
   "source": [
    "plt.scatter(hours.hour, hours.start)\n",
    "#plt.plot(X3, np.dot(Xpoly4, linear5.coef_) + linear5.intercept_, c='black')\n",
    "plt.plot(X3, np.dot(Xpoly4, ridge_evening1.coef_) + ridge_evening1.intercept_, c='r')\n",
    "plt.xlim(14.5, 18.5)\n",
    "plt.ylim(300, 1300)\n",
    "plt.title(\"Evening Rush 1500-1730 Ridge Regression Model 1 Alpha=1\")\n",
    "plt.xlabel(\"Time\")\n",
    "plt.ylabel(\"Number of Rides\")"
   ]
  },
  {
   "cell_type": "markdown",
   "metadata": {},
   "source": [
    "In the first model I set the alpha parameter to 1 to observe the amount of skrinkage the model produced. It appears the model slightly underpredicts ridership between 1715-1730 but it is very minimal. I like that the model cuts through the majority of the data between 1500-1700. I would be curious to add 25 or so points to the data to see how the model predicts those points.  "
   ]
  },
  {
   "cell_type": "code",
   "execution_count": 78,
   "metadata": {},
   "outputs": [
    {
     "data": {
      "text/plain": [
       "(array([ 0.        ,  0.03419406,  0.13382288, -4.81935426,  0.2366504 ]),\n",
       " 4781.3289043350878)"
      ]
     },
     "execution_count": 78,
     "metadata": {},
     "output_type": "execute_result"
    }
   ],
   "source": [
    "ridge_evening2 = linear_model.Ridge(alpha=5)\n",
    "ridge_evening2.fit(Xpoly4, y3)\n",
    "ridge_evening2.coef_, ridge_evening2.intercept_"
   ]
  },
  {
   "cell_type": "code",
   "execution_count": 79,
   "metadata": {},
   "outputs": [
    {
     "data": {
      "text/plain": [
       "Text(0,0.5,'Number of Rides')"
      ]
     },
     "execution_count": 79,
     "metadata": {},
     "output_type": "execute_result"
    },
    {
     "data": {
      "image/png": "[encoded data removed]",
      "text/plain": [
       "<matplotlib.figure.Figure at 0x275cd2d04a8>"
      ]
     },
     "metadata": {},
     "output_type": "display_data"
    }
   ],
   "source": [
    "plt.scatter(hours.hour, hours.start)\n",
    "#plt.plot(X3, np.dot(Xpoly4, linear5.coef_) + linear5.intercept_, c='black')\n",
    "#plt.plot(X3, np.dot(Xpoly4, ridge_evening1.coef_) + ridge_evening1.intercept_, c='black')\n",
    "plt.plot(X3, np.dot(Xpoly4, ridge_evening2.coef_) + ridge_evening2.intercept_, c='g')\n",
    "plt.xlim(14.5, 18.5)\n",
    "plt.ylim(300, 1300)\n",
    "plt.title(\"Evening Rush 1500-1730 Polynomial Regression Model 2 Alpha=5\")\n",
    "plt.xlabel(\"Time\")\n",
    "plt.ylabel(\"Number of Rides\")"
   ]
  },
  {
   "cell_type": "markdown",
   "metadata": {},
   "source": [
    "In the second model the alpha equaled 5 and is represented by a green line. I commented out the first ridge model and was surprised to see that the models did not vary much at all. As expected the regression coefficient values decreased to flatten the model but it appears that it did not change the scatterplot. "
   ]
  },
  {
   "cell_type": "code",
   "execution_count": 80,
   "metadata": {},
   "outputs": [
    {
     "data": {
      "text/plain": [
       "(array([  0.        ,   2.15105661,  21.09564535,  -6.5482048 ,   0.27658116]),\n",
       " 3845.9001988487857)"
      ]
     },
     "execution_count": 80,
     "metadata": {},
     "output_type": "execute_result"
    }
   ],
   "source": [
    "ridge_evening3 = linear_model.Ridge(alpha=0.1)\n",
    "ridge_evening3.fit(Xpoly4, y3)\n",
    "ridge_evening3.coef_, ridge_evening3.intercept_\n"
   ]
  },
  {
   "cell_type": "code",
   "execution_count": 81,
   "metadata": {},
   "outputs": [
    {
     "data": {
      "text/plain": [
       "Text(0,0.5,'Number of Rides')"
      ]
     },
     "execution_count": 81,
     "metadata": {},
     "output_type": "execute_result"
    },
    {
     "data": {
      "image/png": "[encoded data removed]",
      "text/plain": [
       "<matplotlib.figure.Figure at 0x275cd300470>"
      ]
     },
     "metadata": {},
     "output_type": "display_data"
    }
   ],
   "source": [
    "plt.scatter(hours.hour, hours.start)\n",
    "#plt.plot(X3, np.dot(Xpoly4, linear5.coef_) + linear5.intercept_, c='y')\n",
    "plt.plot(X3, np.dot(Xpoly4, ridge_evening2.coef_) + ridge_evening2.intercept_, c='r')\n",
    "plt.plot(X3, np.dot(Xpoly4, ridge_evening3.coef_) + ridge_evening3.intercept_, c='black')\n",
    "plt.xlim(14.5, 18.5)\n",
    "plt.ylim(300, 1300)\n",
    "plt.title(\"Evening Rush 1500-1730 Ridge Regression Model 3 Alpha=0.1\")\n",
    "plt.xlabel(\"Time\")\n",
    "plt.ylabel(\"Number of Rides\")"
   ]
  },
  {
   "cell_type": "markdown",
   "metadata": {},
   "source": [
    "In the final model I decided to reduce the alpha score to 0.1 represented in black and compare it with model two with an alpha score of 5 represented in red. I was once again surprised to see that the line did not change very much, even though the coefficients changed. I think if I changed the scale of the scatterplot that we would see a small change in the regression line. \n",
    "I think the Alpha 1 ridge regression model is the best fit to the data overall and would be my recommendation. The polynomial models way overfit the data and would be difficult to control. I think ridge regression would be a nice fit during the rush hour timeframes because it gives some degree of freedom to the model. "
   ]
  },
  {
   "cell_type": "code",
   "execution_count": null,
   "metadata": {
    "collapsed": true
   },
   "outputs": [],
   "source": []
  }
 ],
 "metadata": {
  "kernelspec": {
   "display_name": "Python 3",
   "language": "python",
   "name": "python3"
  },
  "language_info": {
   "codemirror_mode": {
    "name": "ipython",
    "version": 3
   },
   "file_extension": ".py",
   "mimetype": "text/x-python",
   "name": "python",
   "nbconvert_exporter": "python",
   "pygments_lexer": "ipython3",
   "version": "3.6.3"
  }
 },
 "nbformat": 4,
 "nbformat_minor": 2
}
