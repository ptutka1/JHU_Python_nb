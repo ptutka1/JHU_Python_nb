{
 "cells": [
  {
   "cell_type": "markdown",
   "metadata": {},
   "source": [
    "# Week 2 Notebook 2"
   ]
  },
  {
   "cell_type": "code",
   "execution_count": 61,
   "metadata": {},
   "outputs": [],
   "source": [
    "import numpy as np\n",
    "import pandas as pd\n",
    "import scipy as sp"
   ]
  },
  {
   "cell_type": "code",
   "execution_count": 62,
   "metadata": {
    "collapsed": true
   },
   "outputs": [],
   "source": [
    "%matplotlib inline\n",
    "import matplotlib.pyplot as plt\n",
    "plt.style.use('ggplot')"
   ]
  },
  {
   "cell_type": "code",
   "execution_count": 63,
   "metadata": {},
   "outputs": [
    {
     "name": "stdout",
     "output_type": "stream",
     "text": [
      "Overwriting hw_data.csv\n"
     ]
    }
   ],
   "source": [
    "%%file hw_data.csv\n",
    "id,sex,weight,height\n",
    "1,M,190,77\n",
    "2,F,120,70\n",
    "3,F,110,68\n",
    "4,M,150,72\n",
    "5,O,120,66\n",
    "6,M,120,60\n",
    "7,F,140,70"
   ]
  },
  {
   "cell_type": "code",
   "execution_count": 64,
   "metadata": {},
   "outputs": [
    {
     "data": {
      "text/html": [
       "<div>\n",
       "<style>\n",
       "    .dataframe thead tr:only-child th {\n",
       "        text-align: right;\n",
       "    }\n",
       "\n",
       "    .dataframe thead th {\n",
       "        text-align: left;\n",
       "    }\n",
       "\n",
       "    .dataframe tbody tr th {\n",
       "        vertical-align: top;\n",
       "    }\n",
       "</style>\n",
       "<table border=\"1\" class=\"dataframe\">\n",
       "  <thead>\n",
       "    <tr style=\"text-align: right;\">\n",
       "      <th></th>\n",
       "      <th>id</th>\n",
       "      <th>sex</th>\n",
       "      <th>weight</th>\n",
       "      <th>height</th>\n",
       "    </tr>\n",
       "  </thead>\n",
       "  <tbody>\n",
       "    <tr>\n",
       "      <th>0</th>\n",
       "      <td>1</td>\n",
       "      <td>M</td>\n",
       "      <td>190</td>\n",
       "      <td>77</td>\n",
       "    </tr>\n",
       "    <tr>\n",
       "      <th>1</th>\n",
       "      <td>2</td>\n",
       "      <td>F</td>\n",
       "      <td>120</td>\n",
       "      <td>70</td>\n",
       "    </tr>\n",
       "    <tr>\n",
       "      <th>2</th>\n",
       "      <td>3</td>\n",
       "      <td>F</td>\n",
       "      <td>110</td>\n",
       "      <td>68</td>\n",
       "    </tr>\n",
       "    <tr>\n",
       "      <th>3</th>\n",
       "      <td>4</td>\n",
       "      <td>M</td>\n",
       "      <td>150</td>\n",
       "      <td>72</td>\n",
       "    </tr>\n",
       "    <tr>\n",
       "      <th>4</th>\n",
       "      <td>5</td>\n",
       "      <td>O</td>\n",
       "      <td>120</td>\n",
       "      <td>66</td>\n",
       "    </tr>\n",
       "    <tr>\n",
       "      <th>5</th>\n",
       "      <td>6</td>\n",
       "      <td>M</td>\n",
       "      <td>120</td>\n",
       "      <td>60</td>\n",
       "    </tr>\n",
       "    <tr>\n",
       "      <th>6</th>\n",
       "      <td>7</td>\n",
       "      <td>F</td>\n",
       "      <td>140</td>\n",
       "      <td>70</td>\n",
       "    </tr>\n",
       "  </tbody>\n",
       "</table>\n",
       "</div>"
      ],
      "text/plain": [
       "   id sex  weight  height\n",
       "0   1   M     190      77\n",
       "1   2   F     120      70\n",
       "2   3   F     110      68\n",
       "3   4   M     150      72\n",
       "4   5   O     120      66\n",
       "5   6   M     120      60\n",
       "6   7   F     140      70"
      ]
     },
     "execution_count": 64,
     "metadata": {},
     "output_type": "execute_result"
    }
   ],
   "source": [
    "pd.read_csv('hw_data.csv').head(10)"
   ]
  },
  {
   "cell_type": "markdown",
   "metadata": {},
   "source": [
    "# Python\n",
    " 1. Finish creating the following function that takes a list and returns the average value."
   ]
  },
  {
   "cell_type": "code",
   "execution_count": 65,
   "metadata": {},
   "outputs": [
    {
     "data": {
      "text/plain": [
       "3.375"
      ]
     },
     "execution_count": 65,
     "metadata": {},
     "output_type": "execute_result"
    }
   ],
   "source": [
    "def average(my_list):\n",
    "    total = 0\n",
    "    for item in my_list:\n",
    "        #do something with item!\n",
    "        return sum(my_list) / float(len(my_list))\n",
    "\n",
    "average([1,2,1,4,3,2,5,9])"
   ]
  },
  {
   "cell_type": "code",
   "execution_count": 66,
   "metadata": {},
   "outputs": [
    {
     "data": {
      "text/plain": [
       "162.41666666666666"
      ]
     },
     "execution_count": 66,
     "metadata": {},
     "output_type": "execute_result"
    }
   ],
   "source": [
    "def average(my_list):\n",
    "    total = 0\n",
    "    for item in my_list:\n",
    "        return sum(my_list) / float(len(my_list))\n",
    "\n",
    "    #test with additional integers \n",
    "average([1,2,1,4,3,2,5,9,10,78,89,1745])"
   ]
  },
  {
   "cell_type": "markdown",
   "metadata": {},
   "source": [
    "# 2. Using a Dictionary keep track of the count of numbers (or items) from a list "
   ]
  },
  {
   "cell_type": "code",
   "execution_count": 67,
   "metadata": {},
   "outputs": [
    {
     "data": {
      "text/plain": [
       "{1: 2, 2: 2, 3: 1, 4: 1, 5: 1, 9: 1}"
      ]
     },
     "execution_count": 67,
     "metadata": {},
     "output_type": "execute_result"
    }
   ],
   "source": [
    "def counts(my_list):\n",
    "    counts = dict()\n",
    "    for item in my_list:\n",
    "        #do something with item!\n",
    "       return dict((item, my_list.count(item)) for item in set(my_list))\n",
    "\n",
    "counts([1,2,1,4,3,2,5,9])"
   ]
  },
  {
   "cell_type": "code",
   "execution_count": 68,
   "metadata": {},
   "outputs": [
    {
     "data": {
      "text/plain": [
       "{1: 16, 2: 2, 3: 1, 4: 1, 5: 1, 9: 1}"
      ]
     },
     "execution_count": 68,
     "metadata": {},
     "output_type": "execute_result"
    }
   ],
   "source": [
    "def counts(my_list):\n",
    "    counts = dict()\n",
    "    for item in my_list:\n",
    "        #do something with item!\n",
    "       return dict((item, my_list.count(item)) for item in set(my_list))\n",
    " #test with additional \"1\"\n",
    "counts([1,2,1,4,3,2,5,9,1,1,1,1,1,1,1,1,1,1,1,1,1,1])"
   ]
  },
  {
   "cell_type": "markdown",
   "metadata": {},
   "source": [
    "# 3. Using the counts() function and the .split() function, return a dictionary of most occuring words from the following paragraph. Bonus, remove punctuation from words."
   ]
  },
  {
   "cell_type": "code",
   "execution_count": 69,
   "metadata": {
    "collapsed": true
   },
   "outputs": [],
   "source": [
    "from collections import Counter"
   ]
  },
  {
   "cell_type": "code",
   "execution_count": 70,
   "metadata": {},
   "outputs": [
    {
     "data": {
      "text/plain": [
       "{'Alice': 4,\n",
       " 'Alice,': 1,\n",
       " 'An': 2,\n",
       " 'And': 1,\n",
       " 'At': 1,\n",
       " 'But': 1,\n",
       " 'Duchess': 1,\n",
       " 'Duchess.': 1,\n",
       " 'First,': 1,\n",
       " 'Fish-Footman': 2,\n",
       " 'Footman': 2,\n",
       " 'Footman,': 1,\n",
       " 'Footman’s': 1,\n",
       " 'For': 2,\n",
       " 'Frog-Footman': 1,\n",
       " 'He': 1,\n",
       " 'I': 3,\n",
       " 'It': 1,\n",
       " 'I’m': 1,\n",
       " 'Queen': 1,\n",
       " 'Queen.': 1,\n",
       " 'She': 1,\n",
       " 'The': 2,\n",
       " 'Then': 1,\n",
       " 'a': 15,\n",
       " 'about,': 1,\n",
       " 'against': 1,\n",
       " 'all': 3,\n",
       " 'aloud.': 1,\n",
       " 'am': 2,\n",
       " 'and': 16,\n",
       " 'another': 1,\n",
       " 'answer': 1,\n",
       " 'any': 1,\n",
       " 'are': 1,\n",
       " 'are;': 1,\n",
       " 'arm': 1,\n",
       " 'as': 4,\n",
       " 'at': 6,\n",
       " 'attending': 1,\n",
       " 'back': 1,\n",
       " 'be': 2,\n",
       " 'because': 3,\n",
       " 'been': 1,\n",
       " 'began': 1,\n",
       " 'behind': 1,\n",
       " 'between': 1,\n",
       " 'both': 2,\n",
       " 'bowed': 1,\n",
       " 'broke': 1,\n",
       " 'broken': 1,\n",
       " 'by': 3,\n",
       " 'called': 1,\n",
       " 'came': 2,\n",
       " 'can’t': 1,\n",
       " 'certainly': 1,\n",
       " 'changing': 1,\n",
       " 'considered': 1,\n",
       " 'constant': 1,\n",
       " 'could': 2,\n",
       " 'crash,': 1,\n",
       " 'crept': 1,\n",
       " 'croquet.’': 2,\n",
       " 'curious': 1,\n",
       " 'curled': 1,\n",
       " 'curls': 1,\n",
       " 'decidedly': 1,\n",
       " 'dish': 1,\n",
       " 'do': 1,\n",
       " 'door': 4,\n",
       " 'door,': 2,\n",
       " 'entangled': 1,\n",
       " 'every': 1,\n",
       " 'extraordinary': 1,\n",
       " 'eyes': 2,\n",
       " 'face': 1,\n",
       " 'face,': 1,\n",
       " 'fear': 1,\n",
       " 'felt': 1,\n",
       " 'fish)—and': 1,\n",
       " 'footman': 3,\n",
       " 'footmen,': 1,\n",
       " 'for': 3,\n",
       " 'frog;': 1,\n",
       " 'from': 2,\n",
       " 'get': 2,\n",
       " 'going': 1,\n",
       " 'gone,': 1,\n",
       " 'got': 1,\n",
       " 'grazed': 1,\n",
       " 'great': 2,\n",
       " 'ground': 1,\n",
       " 'had': 4,\n",
       " 'hair': 1,\n",
       " 'handed': 1,\n",
       " 'have': 1,\n",
       " 'he': 5,\n",
       " 'head.': 1,\n",
       " 'head:': 1,\n",
       " 'heads.': 1,\n",
       " 'hear': 1,\n",
       " 'hearing': 1,\n",
       " 'help': 1,\n",
       " 'her,': 1,\n",
       " 'her;': 1,\n",
       " 'here,’': 1,\n",
       " 'herself;': 1,\n",
       " 'him': 2,\n",
       " 'him.': 1,\n",
       " 'himself,': 1,\n",
       " 'his': 5,\n",
       " 'house': 1,\n",
       " 'house,': 1,\n",
       " 'howling': 1,\n",
       " 'if': 2,\n",
       " 'in': 7,\n",
       " 'in?’': 2,\n",
       " 'inside,': 2,\n",
       " 'instance,': 1,\n",
       " 'into': 3,\n",
       " 'invitation': 2,\n",
       " 'it': 2,\n",
       " 'it,’': 1,\n",
       " 'judging': 1,\n",
       " 'just': 1,\n",
       " 'kettle': 1,\n",
       " 'knock,': 1,\n",
       " 'knocked.': 1,\n",
       " 'knocking,’': 2,\n",
       " 'know': 1,\n",
       " 'know.’': 1,\n",
       " 'knuckles.': 1,\n",
       " 'large': 3,\n",
       " 'laughed': 1,\n",
       " 'let': 1,\n",
       " 'letter,': 1,\n",
       " 'like': 1,\n",
       " 'listen.': 1,\n",
       " 'little': 1,\n",
       " 'little,': 1,\n",
       " 'livery': 1,\n",
       " 'livery,': 1,\n",
       " 'livery:': 1,\n",
       " 'looking': 2,\n",
       " 'loudly': 1,\n",
       " 'low,': 1,\n",
       " 'making': 1,\n",
       " 'might': 3,\n",
       " 'minute': 1,\n",
       " 'moment': 1,\n",
       " 'most': 1,\n",
       " 'much': 1,\n",
       " 'near': 1,\n",
       " 'nearly': 2,\n",
       " 'next': 1,\n",
       " 'next,': 1,\n",
       " 'no': 2,\n",
       " 'noise': 2,\n",
       " 'nose,': 1,\n",
       " 'noticed,': 1,\n",
       " 'now': 1,\n",
       " 'of': 9,\n",
       " 'on': 4,\n",
       " 'one': 2,\n",
       " 'only': 1,\n",
       " 'only,': 1,\n",
       " 'opened': 1,\n",
       " 'opened,': 1,\n",
       " 'or': 2,\n",
       " 'order': 1,\n",
       " 'other': 1,\n",
       " 'other,': 1,\n",
       " 'otherwise,': 1,\n",
       " 'out': 3,\n",
       " 'out,': 2,\n",
       " 'over': 2,\n",
       " 'peeped': 1,\n",
       " 'perhaps': 1,\n",
       " 'pieces': 1,\n",
       " 'pieces.': 1,\n",
       " 'plate': 1,\n",
       " 'play': 2,\n",
       " 'possibly': 1,\n",
       " 'powdered': 1,\n",
       " 'producing': 1,\n",
       " 'questions.—How': 1,\n",
       " 'rapped': 1,\n",
       " 'rate': 1,\n",
       " 'reasons.': 1,\n",
       " 'remarked,': 1,\n",
       " 'repeated,': 2,\n",
       " 'round': 1,\n",
       " 'run': 1,\n",
       " 'running': 1,\n",
       " 'said': 3,\n",
       " 'same': 2,\n",
       " 'saying,': 1,\n",
       " 'secondly,': 1,\n",
       " 'sense': 1,\n",
       " 'shall': 1,\n",
       " 'she': 6,\n",
       " 'side': 1,\n",
       " 'sit': 1,\n",
       " 'sitting': 1,\n",
       " 'skimming': 1,\n",
       " 'sky': 1,\n",
       " 'sky.': 1,\n",
       " 'sneezing,': 1,\n",
       " 'so': 2,\n",
       " 'solemn': 2,\n",
       " 'some': 1,\n",
       " 'sort': 1,\n",
       " 'speaking,': 1,\n",
       " 'staring': 1,\n",
       " 'stood': 1,\n",
       " 'straight': 1,\n",
       " 'stupidly': 1,\n",
       " 'such': 1,\n",
       " 'suddenly': 1,\n",
       " 'that': 3,\n",
       " 'the': 32,\n",
       " 'their': 3,\n",
       " 'then': 1,\n",
       " 'then,’': 1,\n",
       " 'there': 1,\n",
       " 'they': 1,\n",
       " 'they’re': 1,\n",
       " 'this': 3,\n",
       " 'this,': 1,\n",
       " 'thought': 1,\n",
       " 'time': 1,\n",
       " 'timidly': 1,\n",
       " 'to': 15,\n",
       " 'together.': 1,\n",
       " 'tomorrow—’': 1,\n",
       " 'tone,': 2,\n",
       " 'top': 1,\n",
       " 'trees': 1,\n",
       " 'two': 2,\n",
       " 'uncivil.': 1,\n",
       " 'under': 1,\n",
       " 'up': 3,\n",
       " 'us.': 1,\n",
       " 'use': 1,\n",
       " 'very': 2,\n",
       " 'was': 8,\n",
       " 'way': 1,\n",
       " 'we': 1,\n",
       " 'went': 2,\n",
       " 'were': 1,\n",
       " 'what': 2,\n",
       " 'when': 2,\n",
       " 'with': 2,\n",
       " 'within—a': 1,\n",
       " 'without': 1,\n",
       " 'wondering': 1,\n",
       " 'wood': 2,\n",
       " 'wood—(she': 1,\n",
       " 'words': 1,\n",
       " 'would': 1,\n",
       " 'you': 5,\n",
       " 'you.’': 1,\n",
       " 'your': 1,\n",
       " '‘But': 1,\n",
       " '‘For': 1,\n",
       " '‘From': 1,\n",
       " '‘I': 1,\n",
       " '‘Please,': 1,\n",
       " '‘There': 1,\n",
       " '‘There’s': 1,\n",
       " '‘and': 1,\n",
       " '‘his': 1,\n",
       " '‘how': 1,\n",
       " '‘if': 1,\n",
       " '‘till': 1}"
      ]
     },
     "execution_count": 70,
     "metadata": {},
     "output_type": "execute_result"
    }
   ],
   "source": [
    "paragraph_text = \"\"\"For a minute or two she stood looking at the house, and wondering what to do next, when suddenly a footman in livery came running out of the wood—(she considered him to be a footman because he was in livery: otherwise, judging by his face only, she would have called him a fish)—and rapped loudly at the door with his knuckles. It was opened by another footman in livery, with a round face, and large eyes like a frog; and both footmen, Alice noticed, had powdered hair that curled all over their heads. She felt very curious to know what it was all about, and crept a little way out of the wood to listen.\n",
    "The Fish-Footman began by producing from under his arm a great letter, nearly as large as himself, and this he handed over to the other, saying, in a solemn tone, ‘For the Duchess. An invitation from the Queen to play croquet.’ The Frog-Footman repeated, in the same solemn tone, only changing the order of the words a little, ‘From the Queen. An invitation for the Duchess to play croquet.’\n",
    "Then they both bowed low, and their curls got entangled together.\n",
    "Alice laughed so much at this, that she had to run back into the wood for fear of their hearing her; and when she next peeped out the Fish-Footman was gone, and the other was sitting on the ground near the door, staring stupidly up into the sky.\n",
    "Alice went timidly up to the door, and knocked.\n",
    "‘There’s no sort of use in knocking,’ said the Footman, ‘and that for two reasons. First, because I’m on the same side of the door as you are; secondly, because they’re making such a noise inside, no one could possibly hear you.’ And certainly there was a most extraordinary noise going on within—a constant howling and sneezing, and every now and then a great crash, as if a dish or kettle had been broken to pieces.\n",
    "‘Please, then,’ said Alice, ‘how am I to get in?’\n",
    "‘There might be some sense in your knocking,’ the Footman went on without attending to her, ‘if we had the door between us. For instance, if you were inside, you might knock, and I could let you out, you know.’ He was looking up into the sky all the time he was speaking, and this Alice thought decidedly uncivil. ‘But perhaps he can’t help it,’ she said to herself; ‘his eyes are so very nearly at the top of his head. But at any rate he might answer questions.—How am I to get in?’ she repeated, aloud.\n",
    "‘I shall sit here,’ the Footman remarked, ‘till tomorrow—’\n",
    "At this moment the door of the house opened, and a large plate came skimming out, straight at the Footman’s head: it just grazed his nose, and broke to pieces against one of the trees behind him.\"\"\"\n",
    "dict(Counter(paragraph_text.split()))"
   ]
  },
  {
   "cell_type": "markdown",
   "metadata": {},
   "source": [
    "Remove punctuation"
   ]
  },
  {
   "cell_type": "code",
   "execution_count": 71,
   "metadata": {},
   "outputs": [],
   "source": [
    "rmpunc = str.maketrans('''!()-[]{};:'\"`,<>.?@#$%^&*_~\\/—’‘\\n''', 33*\" \")\n",
    "#I created a new variable that deletes the 33 above puctuations including \\n. "
   ]
  },
  {
   "cell_type": "code",
   "execution_count": 72,
   "metadata": {},
   "outputs": [
    {
     "data": {
      "text/plain": [
       "'For a minute or two she stood looking at the house  and wondering what to do next  when suddenly a footman in livery came running out of the wood  she considered him to be a footman because he was in livery  otherwise  judging by his face only  she would have called him a fish  and rapped loudly at the door with his knuckles  It was opened by another footman in livery  with a round face  and large eyes like a frog  and both footmen  Alice noticed  had powdered hair that curled all over their heads  She felt very curious to know what it was all about  and crept a little way out of the wood to listen  The Fish Footman began by producing from under his arm a great letter  nearly as large as himself  and this he handed over to the other  saying  in a solemn tone   For the Duchess  An invitation from the Queen to play croquet   The Frog Footman repeated  in the same solemn tone  only changing the order of the words a little   From the Queen  An invitation for the Duchess to play croquet   Then they both bowed low  and their curls got entangled together  Alice laughed so much at this  that she had to run back into the wood for fear of their hearing her  and when she next peeped out the Fish Footman was gone  and the other was sitting on the ground near the door  staring stupidly up into the sky  Alice went timidly up to the door  and knocked   There s no sort of use in knocking   said the Footman   and that for two reasons  First  because I m on the same side of the door as you are  secondly  because they re making such a noise inside  no one could possibly hear you   And certainly there was a most extraordinary noise going on within a constant howling and sneezing  and every now and then a great crash  as if a dish or kettle had been broken to pieces   Please  then   said Alice   how am I to get in    There might be some sense in your knocking   the Footman went on without attending to her   if we had the door between us  For instance  if you were inside  you might knock  and I could let you out  you know   He was looking up into the sky all the time he was speaking  and this Alice thought decidedly uncivil   But perhaps he can t help it   she said to herself   his eyes are so very nearly at the top of his head  But at any rate he might answer questions  How am I to get in   she repeated  aloud   I shall sit here   the Footman remarked   till tomorrow   At this moment the door of the house opened  and a large plate came skimming out  straight at the Footman s head  it just grazed his nose  and broke to pieces against one of the trees behind him '"
      ]
     },
     "execution_count": 72,
     "metadata": {},
     "output_type": "execute_result"
    }
   ],
   "source": [
    "paragraph_text.translate(rmpunc)"
   ]
  },
  {
   "cell_type": "markdown",
   "metadata": {},
   "source": [
    "\n",
    "# 4. Read in a file and write each line from the file to a new file Title-ized"
   ]
  },
  {
   "cell_type": "markdown",
   "metadata": {},
   "source": [
    "This is the first line ->  This Is The First Line"
   ]
  },
  {
   "cell_type": "code",
   "execution_count": 73,
   "metadata": {},
   "outputs": [
    {
     "name": "stdout",
     "output_type": "stream",
     "text": [
      "test123test123\n",
      "This Is The First Line..\n"
     ]
    }
   ],
   "source": [
    "fname = input(\"test123\")\n",
    " \n",
    "with open(fname, 'r') as f:\n",
    "    for line in f:\n",
    "        l=line.title()\n",
    "        print(l)\n",
    "        # I cannot figure out how to save this to a new file?\n",
    "        # the input function is reading from my c drive folder but I dont know how to create a new file from the output. "
   ]
  },
  {
   "cell_type": "markdown",
   "metadata": {},
   "source": [
    "# Numpy\n",
    "\n",
    "1. Given a list, find the average using a numpy function."
   ]
  },
  {
   "cell_type": "code",
   "execution_count": 74,
   "metadata": {
    "collapsed": true
   },
   "outputs": [],
   "source": [
    "simple_list = [1,2,1,4,3,2,5,9]"
   ]
  },
  {
   "cell_type": "code",
   "execution_count": 75,
   "metadata": {},
   "outputs": [
    {
     "data": {
      "text/plain": [
       "[1, 2, 1, 4, 3, 2, 5, 9]"
      ]
     },
     "execution_count": 75,
     "metadata": {},
     "output_type": "execute_result"
    }
   ],
   "source": [
    "simple_list"
   ]
  },
  {
   "cell_type": "code",
   "execution_count": 76,
   "metadata": {},
   "outputs": [
    {
     "data": {
      "text/plain": [
       "3.375"
      ]
     },
     "execution_count": 76,
     "metadata": {},
     "output_type": "execute_result"
    }
   ],
   "source": [
    "np.average(simple_list)"
   ]
  },
  {
   "cell_type": "markdown",
   "metadata": {},
   "source": [
    "\n",
    "# 2. Given two lists of Heights and Weights of individual, calculate the BMI of those individuals, without writing a for-loop"
   ]
  },
  {
   "cell_type": "code",
   "execution_count": 77,
   "metadata": {},
   "outputs": [
    {
     "name": "stdout",
     "output_type": "stream",
     "text": [
      "[ 29.06592681  27.73229978  30.73941662  24.16326531  26.33288875]\n"
     ]
    }
   ],
   "source": [
    "#heights in cm = [174, 173, 173, 175, 171]\n",
    "#weights in cm = [88, 83, 92, 74, 77]\n",
    "# I converted the heights in cm to m to match the weight unit of measurement\n",
    "heights = [1.74, 1.73, 1.73, 1.75, 1.71]\n",
    "weights = [88, 83, 92, 74, 77]\n",
    "np_heights=np.array(heights)\n",
    "np_weights=np.array(weights)\n",
    "BMI=np_weights/np_heights **2\n",
    "print(BMI)"
   ]
  },
  {
   "cell_type": "markdown",
   "metadata": {
    "collapsed": true
   },
   "source": [
    "# 3. Create an array of length 20 filled with random values (between 0 to 1)"
   ]
  },
  {
   "cell_type": "code",
   "execution_count": 78,
   "metadata": {
    "collapsed": true
   },
   "outputs": [],
   "source": [
    "xp = np.linspace(0,1,num=20)"
   ]
  },
  {
   "cell_type": "code",
   "execution_count": 79,
   "metadata": {},
   "outputs": [
    {
     "data": {
      "text/plain": [
       "array([ 0.        ,  0.05263158,  0.10526316,  0.15789474,  0.21052632,\n",
       "        0.26315789,  0.31578947,  0.36842105,  0.42105263,  0.47368421,\n",
       "        0.52631579,  0.57894737,  0.63157895,  0.68421053,  0.73684211,\n",
       "        0.78947368,  0.84210526,  0.89473684,  0.94736842,  1.        ])"
      ]
     },
     "execution_count": 79,
     "metadata": {},
     "output_type": "execute_result"
    }
   ],
   "source": [
    "# creates a line from 0 - 1 with 20 values \n",
    "xp"
   ]
  },
  {
   "cell_type": "code",
   "execution_count": 80,
   "metadata": {
    "collapsed": true
   },
   "outputs": [],
   "source": [
    "yy = np.random.rand(np.size(xp)) "
   ]
  },
  {
   "cell_type": "code",
   "execution_count": 81,
   "metadata": {},
   "outputs": [
    {
     "data": {
      "text/plain": [
       "array([ 0.51962013,  0.14431422,  0.8284951 ,  0.45569674,  0.82675127,\n",
       "        0.63659426,  0.29232165,  0.52954979,  0.5258033 ,  0.73770321,\n",
       "        0.21682588,  0.95653387,  0.19703128,  0.59617409,  0.74095021,\n",
       "        0.07398372,  0.84972388,  0.34804989,  0.34956646,  0.18763909])"
      ]
     },
     "execution_count": 81,
     "metadata": {},
     "output_type": "execute_result"
    }
   ],
   "source": [
    "# creates random values between 0-1 with 20 values based on the np.linespace\n",
    "yy"
   ]
  },
  {
   "cell_type": "markdown",
   "metadata": {},
   "source": [
    "# Bonus Create an array with a large (>1000) length filled with random numbers from different distributions (normal, uniform, etc.). 2. Then, plot a histogram of these values."
   ]
  },
  {
   "cell_type": "code",
   "execution_count": 82,
   "metadata": {},
   "outputs": [
    {
     "data": {
      "image/png": "[encoded data removed]",
      "text/plain": [
       "<matplotlib.figure.Figure at 0x1df5d3ba5c0>"
      ]
     },
     "metadata": {},
     "output_type": "display_data"
    }
   ],
   "source": [
    "rng = np.random.RandomState(8)  # random data\n",
    "a = np.hstack((rng.normal(size=1000),\n",
    "              rng.normal(loc=5, scale=2, size=1000)))\n",
    "plt.hist(a, bins='auto')  # arguments are passed to np.histogram\n",
    "plt.title(\"Histogram with 'auto' bins\")\n",
    "plt.show()"
   ]
  },
  {
   "cell_type": "markdown",
   "metadata": {},
   "source": [
    "# Pandas\n",
    "1. Read in a CSV () and display all the columns and their respective data types"
   ]
  },
  {
   "cell_type": "code",
   "execution_count": 83,
   "metadata": {},
   "outputs": [
    {
     "name": "stdout",
     "output_type": "stream",
     "text": [
      "Overwriting hw_data.csv\n"
     ]
    }
   ],
   "source": [
    "%%file hw_data.csv\n",
    "id,sex,weight,height\n",
    "1,M,190,77\n",
    "2,F,120,70\n",
    "3,F,110,68\n",
    "4,M,150,72\n",
    "5,O,120,66\n",
    "6,M,120,60\n",
    "7,F,140,70\n",
    "# %% returns the first 10 values "
   ]
  },
  {
   "cell_type": "code",
   "execution_count": 84,
   "metadata": {
    "collapsed": true
   },
   "outputs": [],
   "source": [
    "df = pd.read_csv('hw_data.csv')"
   ]
  },
  {
   "cell_type": "code",
   "execution_count": 85,
   "metadata": {},
   "outputs": [
    {
     "data": {
      "text/plain": [
       "Index(['id', 'sex', 'weight', 'height'], dtype='object')"
      ]
     },
     "execution_count": 85,
     "metadata": {},
     "output_type": "execute_result"
    }
   ],
   "source": [
    "df.columns\n",
    "# shows the name of the columns and their type \"object\""
   ]
  },
  {
   "cell_type": "code",
   "execution_count": 86,
   "metadata": {},
   "outputs": [
    {
     "data": {
      "text/html": [
       "<div>\n",
       "<style>\n",
       "    .dataframe thead tr:only-child th {\n",
       "        text-align: right;\n",
       "    }\n",
       "\n",
       "    .dataframe thead th {\n",
       "        text-align: left;\n",
       "    }\n",
       "\n",
       "    .dataframe tbody tr th {\n",
       "        vertical-align: top;\n",
       "    }\n",
       "</style>\n",
       "<table border=\"1\" class=\"dataframe\">\n",
       "  <thead>\n",
       "    <tr style=\"text-align: right;\">\n",
       "      <th></th>\n",
       "      <th>id</th>\n",
       "      <th>sex</th>\n",
       "      <th>weight</th>\n",
       "      <th>height</th>\n",
       "    </tr>\n",
       "  </thead>\n",
       "  <tbody>\n",
       "    <tr>\n",
       "      <th>0</th>\n",
       "      <td>1</td>\n",
       "      <td>M</td>\n",
       "      <td>190.0</td>\n",
       "      <td>77.0</td>\n",
       "    </tr>\n",
       "    <tr>\n",
       "      <th>1</th>\n",
       "      <td>2</td>\n",
       "      <td>F</td>\n",
       "      <td>120.0</td>\n",
       "      <td>70.0</td>\n",
       "    </tr>\n",
       "    <tr>\n",
       "      <th>2</th>\n",
       "      <td>3</td>\n",
       "      <td>F</td>\n",
       "      <td>110.0</td>\n",
       "      <td>68.0</td>\n",
       "    </tr>\n",
       "    <tr>\n",
       "      <th>3</th>\n",
       "      <td>4</td>\n",
       "      <td>M</td>\n",
       "      <td>150.0</td>\n",
       "      <td>72.0</td>\n",
       "    </tr>\n",
       "    <tr>\n",
       "      <th>4</th>\n",
       "      <td>5</td>\n",
       "      <td>O</td>\n",
       "      <td>120.0</td>\n",
       "      <td>66.0</td>\n",
       "    </tr>\n",
       "    <tr>\n",
       "      <th>5</th>\n",
       "      <td>6</td>\n",
       "      <td>M</td>\n",
       "      <td>120.0</td>\n",
       "      <td>60.0</td>\n",
       "    </tr>\n",
       "    <tr>\n",
       "      <th>6</th>\n",
       "      <td>7</td>\n",
       "      <td>F</td>\n",
       "      <td>140.0</td>\n",
       "      <td>70.0</td>\n",
       "    </tr>\n",
       "    <tr>\n",
       "      <th>7</th>\n",
       "      <td># %% returns the first 10 values</td>\n",
       "      <td>NaN</td>\n",
       "      <td>NaN</td>\n",
       "      <td>NaN</td>\n",
       "    </tr>\n",
       "  </tbody>\n",
       "</table>\n",
       "</div>"
      ],
      "text/plain": [
       "                                  id  sex  weight  height\n",
       "0                                  1    M   190.0    77.0\n",
       "1                                  2    F   120.0    70.0\n",
       "2                                  3    F   110.0    68.0\n",
       "3                                  4    M   150.0    72.0\n",
       "4                                  5    O   120.0    66.0\n",
       "5                                  6    M   120.0    60.0\n",
       "6                                  7    F   140.0    70.0\n",
       "7  # %% returns the first 10 values   NaN     NaN     NaN"
      ]
     },
     "execution_count": 86,
     "metadata": {},
     "output_type": "execute_result"
    }
   ],
   "source": [
    "df"
   ]
  },
  {
   "cell_type": "code",
   "execution_count": 87,
   "metadata": {},
   "outputs": [
    {
     "data": {
      "text/plain": [
       "weight    135.714286\n",
       "height     69.000000\n",
       "dtype: float64"
      ]
     },
     "execution_count": 87,
     "metadata": {},
     "output_type": "execute_result"
    }
   ],
   "source": [
    "df.mean()\n",
    "# finds the mean of interval variables within the dataframe"
   ]
  },
  {
   "cell_type": "code",
   "execution_count": 88,
   "metadata": {},
   "outputs": [
    {
     "data": {
      "text/html": [
       "<div>\n",
       "<style>\n",
       "    .dataframe thead tr:only-child th {\n",
       "        text-align: right;\n",
       "    }\n",
       "\n",
       "    .dataframe thead th {\n",
       "        text-align: left;\n",
       "    }\n",
       "\n",
       "    .dataframe tbody tr th {\n",
       "        vertical-align: top;\n",
       "    }\n",
       "</style>\n",
       "<table border=\"1\" class=\"dataframe\">\n",
       "  <thead>\n",
       "    <tr style=\"text-align: right;\">\n",
       "      <th></th>\n",
       "      <th>weight</th>\n",
       "      <th>height</th>\n",
       "    </tr>\n",
       "  </thead>\n",
       "  <tbody>\n",
       "    <tr>\n",
       "      <th>count</th>\n",
       "      <td>7.000000</td>\n",
       "      <td>7.000000</td>\n",
       "    </tr>\n",
       "    <tr>\n",
       "      <th>mean</th>\n",
       "      <td>135.714286</td>\n",
       "      <td>69.000000</td>\n",
       "    </tr>\n",
       "    <tr>\n",
       "      <th>std</th>\n",
       "      <td>27.602622</td>\n",
       "      <td>5.259911</td>\n",
       "    </tr>\n",
       "    <tr>\n",
       "      <th>min</th>\n",
       "      <td>110.000000</td>\n",
       "      <td>60.000000</td>\n",
       "    </tr>\n",
       "    <tr>\n",
       "      <th>25%</th>\n",
       "      <td>120.000000</td>\n",
       "      <td>67.000000</td>\n",
       "    </tr>\n",
       "    <tr>\n",
       "      <th>50%</th>\n",
       "      <td>120.000000</td>\n",
       "      <td>70.000000</td>\n",
       "    </tr>\n",
       "    <tr>\n",
       "      <th>75%</th>\n",
       "      <td>145.000000</td>\n",
       "      <td>71.000000</td>\n",
       "    </tr>\n",
       "    <tr>\n",
       "      <th>max</th>\n",
       "      <td>190.000000</td>\n",
       "      <td>77.000000</td>\n",
       "    </tr>\n",
       "  </tbody>\n",
       "</table>\n",
       "</div>"
      ],
      "text/plain": [
       "           weight     height\n",
       "count    7.000000   7.000000\n",
       "mean   135.714286  69.000000\n",
       "std     27.602622   5.259911\n",
       "min    110.000000  60.000000\n",
       "25%    120.000000  67.000000\n",
       "50%    120.000000  70.000000\n",
       "75%    145.000000  71.000000\n",
       "max    190.000000  77.000000"
      ]
     },
     "execution_count": 88,
     "metadata": {},
     "output_type": "execute_result"
    }
   ],
   "source": [
    "df.describe()\n",
    "# returns additional summamry statisitcs of the variables"
   ]
  },
  {
   "cell_type": "markdown",
   "metadata": {},
   "source": [
    "# 3. Find the Value Counts on column sex"
   ]
  },
  {
   "cell_type": "code",
   "execution_count": 89,
   "metadata": {},
   "outputs": [
    {
     "data": {
      "text/plain": [
       "F    3\n",
       "M    3\n",
       "O    1\n",
       "dtype: int64"
      ]
     },
     "execution_count": 89,
     "metadata": {},
     "output_type": "execute_result"
    }
   ],
   "source": [
    "pd.value_counts(df['sex'].values, sort=True)"
   ]
  },
  {
   "cell_type": "markdown",
   "metadata": {},
   "source": [
    "# 4. Plot Height vs. Weight"
   ]
  },
  {
   "cell_type": "code",
   "execution_count": 90,
   "metadata": {},
   "outputs": [
    {
     "data": {
      "text/plain": [
       "<matplotlib.axes._subplots.AxesSubplot at 0x1df5d409908>"
      ]
     },
     "execution_count": 90,
     "metadata": {},
     "output_type": "execute_result"
    },
    {
     "data": {
      "image/png": "[encoded data removed]",
      "text/plain": [
       "<matplotlib.figure.Figure at 0x1df5d3f5dd8>"
      ]
     },
     "metadata": {},
     "output_type": "display_data"
    }
   ],
   "source": [
    "df.plot(x='height', y='weight', kind='scatter')"
   ]
  },
  {
   "cell_type": "code",
   "execution_count": 91,
   "metadata": {},
   "outputs": [
    {
     "data": {
      "text/plain": [
       "<matplotlib.axes._subplots.AxesSubplot at 0x1df5d3ff390>"
      ]
     },
     "execution_count": 91,
     "metadata": {},
     "output_type": "execute_result"
    },
    {
     "data": {
      "image/png": "[encoded data removed]",
      "text/plain": [
       "<matplotlib.figure.Figure at 0x1df5d41ea58>"
      ]
     },
     "metadata": {},
     "output_type": "display_data"
    }
   ],
   "source": [
    "df.plot.bar()"
   ]
  },
  {
   "cell_type": "markdown",
   "metadata": {},
   "source": [
    "\n",
    "# 5. Calculate BMI and save as a new column"
   ]
  },
  {
   "cell_type": "code",
   "execution_count": 92,
   "metadata": {},
   "outputs": [],
   "source": [
    "BMI = df['weight']/df['height']**2 * 703\n",
    "#I did research on the BMI formula for imperial measurements. (w/h^2)*703"
   ]
  },
  {
   "cell_type": "code",
   "execution_count": 93,
   "metadata": {},
   "outputs": [
    {
     "data": {
      "text/plain": [
       "0    22.528251\n",
       "1    17.216327\n",
       "2    16.723616\n",
       "3    20.341435\n",
       "4    19.366391\n",
       "5    23.433333\n",
       "6    20.085714\n",
       "7          NaN\n",
       "dtype: float64"
      ]
     },
     "execution_count": 93,
     "metadata": {},
     "output_type": "execute_result"
    }
   ],
   "source": [
    "BMI"
   ]
  },
  {
   "cell_type": "code",
   "execution_count": 94,
   "metadata": {},
   "outputs": [],
   "source": [
    "df['BMI']= BMI"
   ]
  },
  {
   "cell_type": "code",
   "execution_count": 95,
   "metadata": {
    "scrolled": true
   },
   "outputs": [
    {
     "data": {
      "text/html": [
       "<div>\n",
       "<style>\n",
       "    .dataframe thead tr:only-child th {\n",
       "        text-align: right;\n",
       "    }\n",
       "\n",
       "    .dataframe thead th {\n",
       "        text-align: left;\n",
       "    }\n",
       "\n",
       "    .dataframe tbody tr th {\n",
       "        vertical-align: top;\n",
       "    }\n",
       "</style>\n",
       "<table border=\"1\" class=\"dataframe\">\n",
       "  <thead>\n",
       "    <tr style=\"text-align: right;\">\n",
       "      <th></th>\n",
       "      <th>id</th>\n",
       "      <th>sex</th>\n",
       "      <th>weight</th>\n",
       "      <th>height</th>\n",
       "      <th>BMI</th>\n",
       "    </tr>\n",
       "  </thead>\n",
       "  <tbody>\n",
       "    <tr>\n",
       "      <th>0</th>\n",
       "      <td>1</td>\n",
       "      <td>M</td>\n",
       "      <td>190.0</td>\n",
       "      <td>77.0</td>\n",
       "      <td>22.528251</td>\n",
       "    </tr>\n",
       "    <tr>\n",
       "      <th>1</th>\n",
       "      <td>2</td>\n",
       "      <td>F</td>\n",
       "      <td>120.0</td>\n",
       "      <td>70.0</td>\n",
       "      <td>17.216327</td>\n",
       "    </tr>\n",
       "    <tr>\n",
       "      <th>2</th>\n",
       "      <td>3</td>\n",
       "      <td>F</td>\n",
       "      <td>110.0</td>\n",
       "      <td>68.0</td>\n",
       "      <td>16.723616</td>\n",
       "    </tr>\n",
       "    <tr>\n",
       "      <th>3</th>\n",
       "      <td>4</td>\n",
       "      <td>M</td>\n",
       "      <td>150.0</td>\n",
       "      <td>72.0</td>\n",
       "      <td>20.341435</td>\n",
       "    </tr>\n",
       "    <tr>\n",
       "      <th>4</th>\n",
       "      <td>5</td>\n",
       "      <td>O</td>\n",
       "      <td>120.0</td>\n",
       "      <td>66.0</td>\n",
       "      <td>19.366391</td>\n",
       "    </tr>\n",
       "    <tr>\n",
       "      <th>5</th>\n",
       "      <td>6</td>\n",
       "      <td>M</td>\n",
       "      <td>120.0</td>\n",
       "      <td>60.0</td>\n",
       "      <td>23.433333</td>\n",
       "    </tr>\n",
       "    <tr>\n",
       "      <th>6</th>\n",
       "      <td>7</td>\n",
       "      <td>F</td>\n",
       "      <td>140.0</td>\n",
       "      <td>70.0</td>\n",
       "      <td>20.085714</td>\n",
       "    </tr>\n",
       "  </tbody>\n",
       "</table>\n",
       "</div>"
      ],
      "text/plain": [
       "  id sex  weight  height        BMI\n",
       "0  1   M   190.0    77.0  22.528251\n",
       "1  2   F   120.0    70.0  17.216327\n",
       "2  3   F   110.0    68.0  16.723616\n",
       "3  4   M   150.0    72.0  20.341435\n",
       "4  5   O   120.0    66.0  19.366391\n",
       "5  6   M   120.0    60.0  23.433333\n",
       "6  7   F   140.0    70.0  20.085714"
      ]
     },
     "execution_count": 95,
     "metadata": {},
     "output_type": "execute_result"
    }
   ],
   "source": [
    "df.head(7)\n",
    "# returns the first 7 values and excludes the NaN value"
   ]
  },
  {
   "cell_type": "markdown",
   "metadata": {},
   "source": [
    "# 6. Save sheet as a new CSV file hw_dataB.csv"
   ]
  },
  {
   "cell_type": "code",
   "execution_count": 96,
   "metadata": {
    "collapsed": true
   },
   "outputs": [],
   "source": [
    "df.to_csv('hw_dataB.csv')"
   ]
  },
  {
   "cell_type": "markdown",
   "metadata": {},
   "source": [
    "# Run the following"
   ]
  },
  {
   "cell_type": "code",
   "execution_count": 97,
   "metadata": {},
   "outputs": [
    {
     "name": "stdout",
     "output_type": "stream",
     "text": [
      ",id,sex,weight,height,BMI\n",
      "0,1,M,190.0,77.0,22.52825096980941\n",
      "1,2,F,120.0,70.0,17.216326530612243\n",
      "2,3,F,110.0,68.0,16.72361591695502\n",
      "3,4,M,150.0,72.0,20.341435185185187\n",
      "4,5,O,120.0,66.0,19.366391184573004\n",
      "5,6,M,120.0,60.0,23.433333333333334\n",
      "6,7,F,140.0,70.0,20.085714285714285\n",
      "7,# %% returns the first 10 values ,,,,\n"
     ]
    }
   ],
   "source": [
    "!cat hw_dataB.csv"
   ]
  }
 ],
 "metadata": {
  "kernelspec": {
   "display_name": "Python 3",
   "language": "python",
   "name": "python3"
  },
  "language_info": {
   "codemirror_mode": {
    "name": "ipython",
    "version": 3
   },
   "file_extension": ".py",
   "mimetype": "text/x-python",
   "name": "python",
   "nbconvert_exporter": "python",
   "pygments_lexer": "ipython3",
   "version": "3.6.3"
  }
 },
 "nbformat": 4,
 "nbformat_minor": 2
}
